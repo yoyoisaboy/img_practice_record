{
 "metadata": {
  "language_info": {
   "codemirror_mode": {
    "name": "ipython",
    "version": 3
   },
   "file_extension": ".py",
   "mimetype": "text/x-python",
   "name": "python",
   "nbconvert_exporter": "python",
   "pygments_lexer": "ipython3",
   "version": "3.7.9"
  },
  "orig_nbformat": 4,
  "kernelspec": {
   "name": "python3",
   "display_name": "Python 3.7.9 64-bit"
  },
  "interpreter": {
   "hash": "2bd04dc09fab68ca3ef149792dfe3505936e6301cdd003bc123cc71dc1164e1a"
  }
 },
 "nbformat": 4,
 "nbformat_minor": 2,
 "cells": [
  {
   "cell_type": "code",
   "execution_count": 16,
   "metadata": {},
   "outputs": [
    {
     "output_type": "stream",
     "name": "stdout",
     "text": [
      "OpenCV 版本: 4.5.2\n"
     ]
    }
   ],
   "source": [
    "import cv2\n",
    "import sys\n",
    "\n",
    "\n",
    "print('OpenCV 版本:',cv2.__version__)\n",
    "\n",
    "#載入影片播放\n",
    "video_path = \"data/video.mp4\"\n"
   ]
  },
  {
   "cell_type": "code",
   "execution_count": 17,
   "metadata": {},
   "outputs": [
    {
     "output_type": "stream",
     "name": "stdout",
     "text": [
      "1280.0\n720.0\n29.97002997002997\n1930.0\n影片總偵數: 1930.0\n"
     ]
    }
   ],
   "source": [
    "\n",
    "\n",
    "#調用cv2.VideoCapture()讀取影片\n",
    "cap = cv2.VideoCapture(video_path) #\"xxx.aiv\"\n",
    "#影片格式支援\n",
    "\n",
    "#cv2.namedWindow('frame',cv2.WINDOW_AUTOSIZE)\n",
    "\n",
    "# 取得影像的尺寸大小\n",
    "print(cap.get(cv2.CAP_PROP_FRAME_WIDTH))\n",
    "print(cap.get(cv2.CAP_PROP_FRAME_HEIGHT))\n",
    "print(cap.get(cv2.CAP_PROP_FPS)) #一秒鐘的影片含有多少張靜態圖片\n",
    "print(cap.get(cv2.CAP_PROP_FRAME_COUNT))\n",
    "\n",
    "frame_end=cap.get(cv2.CAP_PROP_FRAME_COUNT)\n",
    "print(\"影片總偵數:\",frame_end)\n"
   ]
  },
  {
   "cell_type": "code",
   "execution_count": 18,
   "metadata": {
    "tags": []
   },
   "outputs": [],
   "source": [
    "\n",
    "while cap.isOpened():\n",
    "    \n",
    "    ret, frame = cap.read()\n",
    "    \n",
    "    # 正確讀取影像時 ret 回傳 True\n",
    "    frame_count=cap.get(cv2.CAP_PROP_POS_FRAMES) #frame每張圖得像素\n",
    "    if frame_count == frame_end:\n",
    "        print(\"影片讀取完畢\")\n",
    "        break \n",
    "    if not ret:\n",
    "        print(\"影片讀取失敗，請確認影片格式...\")\n",
    "        break\n",
    "    \n",
    "    #轉灰階畫面顯示\n",
    "    gray = cv2.cvtColor(frame, cv2.COLOR_BGR2GRAY)\n",
    "    \n",
    "    cv2.imshow('Video Player', gray)\n",
    "    \n",
    "    if cv2.waitKey(1) == ord('q'): #影片案q後break，ord轉為對應的整數(ASCII碼)\n",
    "        break\n",
    "    \n",
    "cap.release()\n",
    "cv2.destroyAllWindows()"
   ]
  },
  {
   "cell_type": "code",
   "execution_count": 19,
   "metadata": {},
   "outputs": [
    {
     "output_type": "stream",
     "name": "stdout",
     "text": [
      "113\n"
     ]
    }
   ],
   "source": [
    "print()"
   ]
  },
  {
   "cell_type": "code",
   "execution_count": null,
   "metadata": {},
   "outputs": [],
   "source": []
  }
 ]
}