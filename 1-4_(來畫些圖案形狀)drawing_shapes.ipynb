{
 "metadata": {
  "language_info": {
   "codemirror_mode": {
    "name": "ipython",
    "version": 3
   },
   "file_extension": ".py",
   "mimetype": "text/x-python",
   "name": "python",
   "nbconvert_exporter": "python",
   "pygments_lexer": "ipython3",
   "version": "3.7.9"
  },
  "orig_nbformat": 4,
  "kernelspec": {
   "name": "python3",
   "display_name": "Python 3.7.9 64-bit"
  },
  "interpreter": {
   "hash": "2bd04dc09fab68ca3ef149792dfe3505936e6301cdd003bc123cc71dc1164e1a"
  }
 },
 "nbformat": 4,
 "nbformat_minor": 2,
 "cells": [
  {
   "cell_type": "code",
   "execution_count": 1,
   "metadata": {},
   "outputs": [],
   "source": [
    "import numpy as np\n",
    "import cv2\n",
    "import sys\n",
    "\n"
   ]
  },
  {
   "cell_type": "code",
   "execution_count": 2,
   "metadata": {},
   "outputs": [],
   "source": [
    "def drawing_shapes(img_path,type):\n",
    "\n",
    "\timg = cv2.imread(img_path)\n",
    "\tif  type =='line':\n",
    "\t\tcv2.line(img,(100,10),(200,200),(255,255,0),5)\n",
    "\tif  type =='rectangle':\n",
    "\t\tcv2.rectangle(img,(100,10),(200,200),(255,255,0),5)\n",
    "\tif  type =='circle':\n",
    "\t\tcv2.circle(img,(180,170),45,(100,100,100),-1)\n",
    "\tif  type =='ellipse':\n",
    "\t\tcv2.ellipse(img,(256,256),(100,50),0,0,90,255,0)\n",
    "\tif  type =='polylines':\n",
    "\t\tpts = np.array([[10,5],[20,30],[70,20],[50,10]], np.int32)\n",
    "\t\tpts = pts.reshape((-1,1,2))\n",
    "\t\tcv2.polylines(img,[pts],True,(0,0,255))\n",
    "\n",
    "\tcv2.imshow(\"Drawing\",img)\n",
    "\tcv2.waitKey(0)\n",
    "\n",
    "def add_text(img_path,texts):\n",
    "\timg=cv2.imread(img_path)\n",
    "\tfont = cv2.FONT_HERSHEY_SIMPLEX\n",
    "\tcv2.putText(img,texts,(350,80),font,2,(255,0,0),2,cv2.LINE_AA)\n",
    "\tcv2.imshow(\"Text\",img)\n",
    "\tcv2.waitKey(0)"
   ]
  },
  {
   "cell_type": "code",
   "execution_count": 3,
   "metadata": {},
   "outputs": [],
   "source": [
    "\n",
    "drawing_shapes(\"data/opencv.png\",\"ellipse\")\n",
    "add_text(\"data/opencv.png\",\"Hello OpenCV\")"
   ]
  },
  {
   "cell_type": "code",
   "execution_count": null,
   "metadata": {},
   "outputs": [],
   "source": []
  }
 ]
}