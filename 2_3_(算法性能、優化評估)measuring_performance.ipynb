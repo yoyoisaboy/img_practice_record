{
 "metadata": {
  "language_info": {
   "codemirror_mode": {
    "name": "ipython",
    "version": 3
   },
   "file_extension": ".py",
   "mimetype": "text/x-python",
   "name": "python",
   "nbconvert_exporter": "python",
   "pygments_lexer": "ipython3",
   "version": "3.7.9"
  },
  "orig_nbformat": 4,
  "kernelspec": {
   "name": "python3",
   "display_name": "Python 3.7.9 64-bit"
  },
  "interpreter": {
   "hash": "2bd04dc09fab68ca3ef149792dfe3505936e6301cdd003bc123cc71dc1164e1a"
  }
 },
 "nbformat": 4,
 "nbformat_minor": 2,
 "cells": [
  {
   "cell_type": "code",
   "execution_count": 1,
   "metadata": {},
   "outputs": [],
   "source": [
    "import cv2\n",
    "import sys\n",
    "import numpy as np"
   ]
  },
  {
   "cell_type": "code",
   "execution_count": 2,
   "metadata": {},
   "outputs": [],
   "source": [
    "img1 = \"data/opencv.png\"\n",
    "img2 = \"data/robot.jpg\"\n",
    "\n",
    "#算法運算時間計算\n"
   ]
  },
  {
   "cell_type": "code",
   "execution_count": 3,
   "metadata": {},
   "outputs": [
    {
     "output_type": "stream",
     "name": "stdout",
     "text": [
      "讀取兩張影像時間: 0.0084523 s\n開啟OpenCV運算優化: True\n影像Blur計算時間: 0.0367024 s\nOpenCV 版本時間: 0.0008573 s\nNumpy 版本時間: 0.0004467 s\n"
     ]
    }
   ],
   "source": [
    "e1 = cv2.getTickCount() #起始時間戳\n",
    "#調用cv2.imread()讀取影像\n",
    "\n",
    "img_1 = cv2.imread(img1)\n",
    "img_2 = cv2.imread(img2)\n",
    "\n",
    "e2 = cv2.getTickCount() #終止時間戳\n",
    "\n",
    "#計算讀取兩張圖片所需時間\n",
    "#cv2.getTickFrequency() 回傳number of clock-cycles per second 每秒時脈頻率\n",
    "print(\"讀取兩張影像時間:\",(e2-e1)/cv2.getTickFrequency(),\"s\")\n",
    "\n",
    "#開啟基本優化模式，優化使用不同指令集 SSE2,AVX\n",
    "#cv2.useOptimized()開啟加速運算\n",
    "\n",
    "print(\"開啟OpenCV運算優化:\",cv2.useOptimized())\n",
    "cv2.setUseOptimized(False)\n",
    "\n",
    "e1 = cv2.getTickCount() #起始時間戳\n",
    "res = cv2.medianBlur(img_1,9)\n",
    "\n",
    "e2 = cv2.getTickCount() #終止時間戳\n",
    "\n",
    "print(\"影像Blur計算時間:\",(e2-e1)/cv2.getTickFrequency(),\"s\")\n",
    "cv2.imshow(\"res\",res)\n",
    "\n",
    "#計算統計圖片非零值數速度比較\n",
    "robot2gray = cv2.cvtColor(img_2,cv2.COLOR_BGR2GRAY)\n",
    "\n",
    "#使用OpenCV 計算所需時間\n",
    "e1 = cv2.getTickCount() #起始時間戳\n",
    "z = cv2.countNonZero(robot2gray)\n",
    "e2 = cv2.getTickCount() #終止時間戳\n",
    "print(\"OpenCV 版本時間:\",(e2-e1)/cv2.getTickFrequency(),\"s\")\n",
    "\n",
    "#使用Numpy 計算所需時間\n",
    "e1 = cv2.getTickCount() #起始時間戳\n",
    "z = np.count_nonzero(robot2gray)\n",
    "e2 = cv2.getTickCount() #終止時間戳\n",
    "print(\"Numpy 版本時間:\",(e2-e1)/cv2.getTickFrequency(),\"s\")\n",
    "\n",
    "\n",
    "cv2.waitKey(0)\n",
    "cv2.destroyAllWindows() "
   ]
  },
  {
   "cell_type": "code",
   "execution_count": null,
   "metadata": {},
   "outputs": [],
   "source": []
  },
  {
   "cell_type": "code",
   "execution_count": null,
   "metadata": {},
   "outputs": [],
   "source": []
  }
 ]
}