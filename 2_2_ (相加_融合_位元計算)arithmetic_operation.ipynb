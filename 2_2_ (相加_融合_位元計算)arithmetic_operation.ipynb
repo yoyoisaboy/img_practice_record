{
 "metadata": {
  "language_info": {
   "codemirror_mode": {
    "name": "ipython",
    "version": 3
   },
   "file_extension": ".py",
   "mimetype": "text/x-python",
   "name": "python",
   "nbconvert_exporter": "python",
   "pygments_lexer": "ipython3",
   "version": "3.7.9"
  },
  "orig_nbformat": 4,
  "kernelspec": {
   "name": "python3",
   "display_name": "Python 3.7.9 64-bit"
  },
  "interpreter": {
   "hash": "2bd04dc09fab68ca3ef149792dfe3505936e6301cdd003bc123cc71dc1164e1a"
  }
 },
 "nbformat": 4,
 "nbformat_minor": 2,
 "cells": [
  {
   "cell_type": "code",
   "execution_count": 1,
   "metadata": {},
   "outputs": [],
   "source": [
    "import cv2\n",
    "import sys\n",
    "import numpy as np"
   ]
  },
  {
   "cell_type": "code",
   "execution_count": 2,
   "metadata": {},
   "outputs": [],
   "source": [
    "#呼叫顯示圖片\n",
    "img1_path = \"data/opencv.png\"\n",
    "img2_path = \"data/robot.jpg\"\n"
   ]
  },
  {
   "cell_type": "code",
   "execution_count": 3,
   "metadata": {},
   "outputs": [
    {
     "output_type": "stream",
     "name": "stdout",
     "text": [
      "(329, 865, 3)\n"
     ]
    }
   ],
   "source": [
    "#調用cv2.imread()讀取影像\n",
    "img_1 = cv2.imread(img1_path)\n",
    "img_2 = cv2.imread(img2_path)\n",
    "\n",
    "print(img_1.shape)\n",
    "\n",
    "logo = img_1[35:285,35:320] #y->dy ,x->dx\n",
    "robot = img_2[35:285,35:320]\n",
    "#調用cv2.imshow() 顯示讀取進來的影像\n",
    "cv2.imshow(\"logo Show\", logo)\n",
    "cv2.imshow(\"robot Show\", robot)\n",
    "\n",
    "\n",
    "cv2.waitKey(0)\n",
    "cv2.destroyAllWindows() "
   ]
  },
  {
   "cell_type": "code",
   "execution_count": 8,
   "metadata": {},
   "outputs": [
    {
     "output_type": "stream",
     "name": "stdout",
     "text": [
      "[[255]]\n[4]\n"
     ]
    }
   ],
   "source": [
    "#使用cv2.add(x,y) 像素值相加\n",
    "x = np.uint8([250])\n",
    "y = np.uint8([10])\n",
    "\n",
    "print(cv2.add(x,y)) #250+10=260 ->255 直接修正為上限值\n",
    "\n",
    "#如直接用np相加\n",
    "print(x+y) #250+10=260 % 256 -> 4 輸出為餘數\n",
    "\n",
    "\n",
    "#使用cv2.addWeighted(src1,alpha,src2,beta,gamma)兩張影像權重比例乘加\n",
    "#dst(I)=saturate(src1(I)∗alpha+src2(I)∗beta+gamma)\n",
    "dst = cv2.addWeighted(logo,0.5,robot,0.5,0) # 合成影像，合成的圖必須相同大小\n",
    "cv2.imshow(\"dst\",dst)\n",
    "cv2.waitKey(0)\n",
    "cv2.destroyAllWindows() \n"
   ]
  },
  {
   "cell_type": "code",
   "execution_count": 9,
   "metadata": {},
   "outputs": [],
   "source": [
    "\n",
    "#使用cv2.bitwise__()完成bitwise 位元運算 Bitwise Operations\n",
    "#包含AND,OR,NOT,XOR 算法\n",
    "\n",
    "rows ,cols ,channels = img_2.shape\n",
    "roi = img_1[0:rows,0:cols]\n",
    "\n",
    "robot2gray = cv2.cvtColor(img_2,cv2.COLOR_BGR2GRAY)\n",
    "ret,mask =cv2.threshold(robot2gray,10,255,cv2.THRESH_BINARY)\n",
    "mask_inv = cv2.bitwise_not(mask)\n"
   ]
  },
  {
   "cell_type": "code",
   "execution_count": 10,
   "metadata": {},
   "outputs": [],
   "source": [
    "img1_bg = cv2.bitwise_and(roi,roi,mask = mask_inv)\n",
    "img2_fg = cv2.bitwise_and(img_2,img_2,mask = mask)\n",
    "\n",
    "dst = cv2.add(img1_bg,img2_fg)\n",
    "\n",
    "img_1[0:rows,0:cols] = dst\n",
    "cv2.imshow(\"res\",img_1)\n",
    "\n",
    "\n",
    "cv2.waitKey(0)\n",
    "cv2.destroyAllWindows() "
   ]
  },
  {
   "cell_type": "code",
   "execution_count": null,
   "metadata": {},
   "outputs": [],
   "source": []
  }
 ]
}