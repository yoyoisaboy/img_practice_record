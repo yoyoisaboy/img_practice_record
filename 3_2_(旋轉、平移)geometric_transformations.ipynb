{
 "metadata": {
  "language_info": {
   "codemirror_mode": {
    "name": "ipython",
    "version": 3
   },
   "file_extension": ".py",
   "mimetype": "text/x-python",
   "name": "python",
   "nbconvert_exporter": "python",
   "pygments_lexer": "ipython3",
   "version": "3.7.9"
  },
  "orig_nbformat": 4,
  "kernelspec": {
   "name": "python3",
   "display_name": "Python 3.7.9 64-bit"
  },
  "interpreter": {
   "hash": "2bd04dc09fab68ca3ef149792dfe3505936e6301cdd003bc123cc71dc1164e1a"
  }
 },
 "nbformat": 4,
 "nbformat_minor": 2,
 "cells": [
  {
   "source": [
    "總結\n",
    "* 如果是要縮小圖片的話，通常 INTER_AREA 使用效果較佳。\n",
    "* 如果是要放大圖片的話，通常 INTER_CUBIC 使用效果較佳，次等則是 INTER_LINEAR。\n",
    "* 如果要追求速度的話，通常使用 INTER_NEAREST。\n",
    "* 由快到慢排序：INTER_NEAREST > INTER_CUBIC > INTER_LINEAR > INTER_AREA > INTER_LANCZOS4"
   ],
   "cell_type": "markdown",
   "metadata": {}
  },
  {
   "cell_type": "code",
   "execution_count": 2,
   "metadata": {},
   "outputs": [],
   "source": [
    "import cv2\n",
    "import numpy as np\n",
    "import sys"
   ]
  },
  {
   "cell_type": "code",
   "execution_count": 15,
   "metadata": {},
   "outputs": [
    {
     "output_type": "stream",
     "name": "stdout",
     "text": [
      "(315, 512, 3)\n"
     ]
    }
   ],
   "source": [
    "def scaling(img_path): #影像縮放方法\n",
    "\t\n",
    "\timg = cv2.imread(img_path)\n",
    "\n",
    "\tif img is None:\n",
    "\t\tsys.exit(\"無法讀取影像...\")\n",
    "\n",
    "\t#影像放大\n",
    "\t#方法1\n",
    "\tres = cv2.resize(img,None,fx=1.5, fy=1.5, interpolation = cv2.INTER_CUBIC\t) #\tcv2.INTER_CUBIC 4x4像素鄰域的雙三次插值\n",
    "\t\n",
    "\t#方法2\n",
    "\theight, width = img.shape[:2]\n",
    "\tres2 = cv2.resize(img,(2*width, 2*height), interpolation = cv2.INTER_CUBIC\t)\n",
    "\tprint(img.shape)\n",
    "\tcv2.imshow('res',res)\n",
    "\tcv2.imshow('res2',res2)\n",
    "\t\n",
    "\tk = cv2.waitKey(0)\n",
    "\tcv2.destroyAllWindows() \n",
    "\n",
    "#放大\n",
    "scaling(\"data/tennis.jpg\")\n"
   ]
  },
  {
   "cell_type": "code",
   "execution_count": 26,
   "metadata": {},
   "outputs": [],
   "source": [
    "def translation(img_path): #平移\n",
    "\t\n",
    "\timg = cv2.imread(img_path)\n",
    "\n",
    "\tif img is None:\n",
    "\t\tsys.exit(\"無法讀取影像...\")\n",
    "\n",
    "\t#影像平移\n",
    "\trows,cols = img.shape[:2] \n",
    "    #記得width = columns ;height = rows 避免混淆\n",
    "\t#[1,0,tx]\n",
    "\t#[0,1,yx]\n",
    "\tM = np.float32([[1,0,100],[0,1,100]]) #M 矩陣\n",
    "\tdst = cv2.warpAffine(img,M,(cols,rows)) #平移計算\n",
    "\t\n",
    "\tcv2.imshow('dst',dst)\n",
    "\tk = cv2.waitKey(0)\n",
    "\tcv2.destroyAllWindows() \n",
    "    \n",
    "#平移\n",
    "translation(\"data/tennis.jpg\")\n"
   ]
  },
  {
   "cell_type": "code",
   "execution_count": 27,
   "metadata": {},
   "outputs": [
    {
     "output_type": "stream",
     "name": "stdout",
     "text": [
      "M旋轉矩陣: [[  0.70710678   0.70710678 -36.18154724]\n [ -0.70710678   0.70710678 226.65001795]]\n"
     ]
    }
   ],
   "source": [
    "def rotation(img_path): #旋轉\n",
    "\t\n",
    "\timg = cv2.imread(img_path)\n",
    "\n",
    "\tif img is None:\n",
    "\t\tsys.exit(\"無法讀取影像...\")\n",
    "\n",
    "\t#影像旋轉\n",
    "\trows,cols = img.shape[:2] \n",
    "\t#來計算旋轉角度θ,我們要提供個旋轉矩陣\n",
    "\t#OpenCV提供了可以任意旋轉縮放與不同中心點的旋轉\n",
    "\t# cols-1 和 rows-1 找出影像中心點做旋轉\n",
    "\tM = cv2.getRotationMatrix2D(((cols-1)/2.0,(rows-1)/2.0),45,1) #計算旋轉矩陣;getRotationMatrix2D(rx,ry,θ,scale)\n",
    "\tprint(\"M旋轉矩陣:\",M)\n",
    "\tdst = cv2.warpAffine(img,M,(cols,rows))\n",
    "\t\n",
    "\tcv2.imshow('dst',dst)\n",
    "\t\n",
    "\tk = cv2.waitKey(0)\n",
    "\tcv2.destroyAllWindows()\n",
    "\n",
    "#旋轉\n",
    "rotation(\"data/tennis.jpg\")"
   ]
  },
  {
   "cell_type": "code",
   "execution_count": 28,
   "metadata": {},
   "outputs": [
    {
     "output_type": "stream",
     "name": "stdout",
     "text": [
      "[[  1.26666667   0.6        -83.33333333]\n [ -0.33333333   1.          66.66666667]]\n"
     ]
    }
   ],
   "source": [
    "def affine_transformation(img_path): #任意映射轉換\n",
    "\t\n",
    "\timg = cv2.imread(img_path)\n",
    "\n",
    "\tif img is None:\n",
    "\t\tsys.exit(\"無法讀取影像...\")\n",
    "\n",
    "\t#影像任意點映射\n",
    "\trows,cols = img.shape[:2] \n",
    "\tpts1 = np.float32([[50,50],[200,50],[50,200]]) #原圖這三個座標點位置\n",
    "\tpts2 = np.float32([[10,100],[200,50],[100,250]]) #映射轉換後的座標點位置,(50,50)->(10,100)\n",
    "\tM = cv2.getAffineTransform(pts1,pts2)\n",
    "\tprint(M)\n",
    "\t#投影轉換\n",
    "\tdst = cv2.warpAffine(img,M,(cols,rows))\n",
    "\n",
    "\t\n",
    "\tcv2.imshow('Input',img)\n",
    "\tcv2.imshow('Output',dst)\n",
    "\t\n",
    "\tk = cv2.waitKey(0)\n",
    "\tcv2.destroyAllWindows()\n",
    "#映射變形\n",
    "affine_transformation(\"data/tennis.jpg\")\n"
   ]
  },
  {
   "cell_type": "code",
   "execution_count": 42,
   "metadata": {},
   "outputs": [
    {
     "output_type": "stream",
     "name": "stdout",
     "text": [
      "[[-2.04502930e+01  4.49501489e+01 -6.48456518e+03]\n [-7.16067675e+00 -2.86427070e+01  4.69740395e+03]\n [-1.70109968e-02 -4.29015671e-02  1.00000000e+00]]\n"
     ]
    }
   ],
   "source": [
    "def perspective_transformation(img_path): #透視轉換變形\n",
    "\t\n",
    "\timg = cv2.imread(img_path)\n",
    "\n",
    "\tif img is None:\n",
    "\t\tsys.exit(\"無法讀取影像...\")\n",
    "\n",
    "\t#影像透視點轉換變形\n",
    "\trows,cols = img.shape[:2] \n",
    "\t#提供至少4個座標點來計算3x3的透視轉換矩陣\n",
    "\tpts1 = np.float32([[28,157],[48,152],[250,258],[308,251]]) #斜圖的[左上,右上,左下,右下]\n",
    "\tpts2 = np.float32([[0,0],[100,0],[0,313],[100,313]]) #想擺正圖的[左上,右上,左下,右下]\n",
    "\t\n",
    "\t#計算3x3矩陣轉換,將場內線轉換成水平直線\n",
    "\tM = cv2.getPerspectiveTransform(pts1,pts2)\n",
    "\t#透視轉換\n",
    "\tdst = cv2.warpPerspective(img,M,(100,313))\n",
    "    \n",
    "\tprint(M)\n",
    "\n",
    "\tcv2.imshow('Input',img)\n",
    "\tcv2.imshow('Output',dst)\n",
    "\t\n",
    "\tk = cv2.waitKey(0)\n",
    "\tcv2.destroyAllWindows()\n",
    "\n",
    "#透視轉換\n",
    "perspective_transformation(\"data/tennis.jpg\")"
   ]
  },
  {
   "cell_type": "code",
   "execution_count": null,
   "metadata": {},
   "outputs": [],
   "source": []
  },
  {
   "cell_type": "code",
   "execution_count": null,
   "metadata": {},
   "outputs": [],
   "source": []
  }
 ]
}