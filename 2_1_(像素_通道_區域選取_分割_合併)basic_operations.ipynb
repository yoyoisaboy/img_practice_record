{
 "metadata": {
  "language_info": {
   "codemirror_mode": {
    "name": "ipython",
    "version": 3
   },
   "file_extension": ".py",
   "mimetype": "text/x-python",
   "name": "python",
   "nbconvert_exporter": "python",
   "pygments_lexer": "ipython3",
   "version": "3.7.9"
  },
  "orig_nbformat": 4,
  "kernelspec": {
   "name": "python3",
   "display_name": "Python 3.7.9 64-bit"
  },
  "interpreter": {
   "hash": "2bd04dc09fab68ca3ef149792dfe3505936e6301cdd003bc123cc71dc1164e1a"
  }
 },
 "nbformat": 4,
 "nbformat_minor": 2,
 "cells": [
  {
   "cell_type": "code",
   "execution_count": 1,
   "metadata": {},
   "outputs": [],
   "source": [
    "import cv2\n",
    "import sys\n",
    "img_path = \"data/opencv.png\""
   ]
  },
  {
   "cell_type": "code",
   "execution_count": 2,
   "metadata": {},
   "outputs": [
    {
     "output_type": "stream",
     "name": "stdout",
     "text": [
      "[255 255 255]\n"
     ]
    }
   ],
   "source": [
    "#調用cv2.imread()讀取影像\n",
    "img = cv2.imread(img_path)\n",
    "#讀取支援的格式：bmp,pbm, pgm, ppm,jpeg, jpg,tiff, tif,png....\n",
    "\n",
    "if img is None:\n",
    "    sys.exit(\"無法讀取影像...\")\n",
    "\n",
    "#調用cv2.imshow() 顯示讀取進來的影像\n",
    "cv2.imshow(\"Image Show\", img)\n",
    "#指定pix位置x,y\n",
    "px = img[100,100]\n",
    "print(px) #顯示BGR顏色數值\n",
    "\n",
    "k = cv2.waitKey(0)\n",
    "cv2.destroyAllWindows() "
   ]
  },
  {
   "cell_type": "code",
   "execution_count": 3,
   "metadata": {},
   "outputs": [
    {
     "output_type": "stream",
     "name": "stdout",
     "text": [
      "255\n[0 0 0]\n(10,10)像素的紅色數值 255\nNone\n100\n(329, 865, 3)\n853755\nuint8\n(329, 865)\n"
     ]
    }
   ],
   "source": [
    "\n",
    "#指定 x,y座標上 0 通道到數值\n",
    "blue = img[100,100,0] \n",
    "#0:Blue 1:Green 2:Red\n",
    "print(blue)\n",
    "\n",
    "\n",
    "#指定圖片像素值\n",
    "img[100,100] = [0,0,0] #[B,G,R] \n",
    "print(img[100,100])\n",
    "\n",
    "#更好的像素讀取編輯方式\n",
    "#基於numpy的資料格式指定物件\n",
    "\n",
    "print(\"(10,10)像素的紅色數值\",img.item(10,10,2))\n",
    "\n",
    "#修改像素值\n",
    "print(img.itemset((10,10,2),100))\n",
    "print(img.item(10,10,2))\n",
    "\n",
    "#檢視影像屬性\n",
    "\n",
    "#行、列、通道;圖像長寬與通道數(channels),可以判斷灰階或彩圖\n",
    "print(img.shape)\n",
    "#像素總量 w*h*c\n",
    "print(img.size)\n",
    "#像素資料型態 uint8(0~255)\n",
    "print(img.dtype)\n",
    "\n",
    "#分割圖像區域\n",
    "logo = img[10:300,50:315] #y->dy ,x->dx\n",
    "\n",
    "#分割與合併，色彩通道\n",
    "\n",
    "#分割通道\n",
    "b,g,r = cv2.split(img)\n",
    "\n",
    "#也可以陣列指定通道分割\n",
    "b = img[:,:,0]\n",
    "g = img[:,:,1]\n",
    "r = img[:,:,2]\n",
    "print(b.shape)\n"
   ]
  },
  {
   "cell_type": "code",
   "execution_count": 4,
   "metadata": {},
   "outputs": [],
   "source": [
    "\n",
    "#指定通道顏色 \n",
    "img[:,:,2] = 255 #R全部變成255\n",
    "\n",
    "#合併通道\n",
    "img_2 = cv2.merge((b,g,r))\n",
    "\n",
    "cv2.imshow(\"b\",b)\n",
    "cv2.imshow(\"g\",g)\n",
    "cv2.imshow(\"r\",r)\n",
    "\n",
    "cv2.imshow(\"Image Show\", img)\n",
    "cv2.imshow(\"Image2 Show\", img_2)\n",
    "\n",
    "cv2.imshow(\"logo\",logo)\n",
    "\n",
    "\n",
    "k = cv2.waitKey(0)\n",
    "cv2.destroyAllWindows() "
   ]
  },
  {
   "cell_type": "code",
   "execution_count": null,
   "metadata": {},
   "outputs": [],
   "source": []
  }
 ]
}