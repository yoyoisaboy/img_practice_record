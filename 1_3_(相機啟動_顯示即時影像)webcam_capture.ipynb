{
 "metadata": {
  "language_info": {
   "codemirror_mode": {
    "name": "ipython",
    "version": 3
   },
   "file_extension": ".py",
   "mimetype": "text/x-python",
   "name": "python",
   "nbconvert_exporter": "python",
   "pygments_lexer": "ipython3",
   "version": "3.7.9"
  },
  "orig_nbformat": 4,
  "kernelspec": {
   "name": "python3",
   "display_name": "Python 3.7.9 64-bit"
  },
  "interpreter": {
   "hash": "2bd04dc09fab68ca3ef149792dfe3505936e6301cdd003bc123cc71dc1164e1a"
  }
 },
 "nbformat": 4,
 "nbformat_minor": 2,
 "cells": [
  {
   "cell_type": "code",
   "execution_count": 1,
   "metadata": {},
   "outputs": [],
   "source": [
    "import cv2\n",
    "import sys\n",
    "\n",
    "\n"
   ]
  },
  {
   "cell_type": "code",
   "execution_count": 2,
   "metadata": {},
   "outputs": [
    {
     "output_type": "stream",
     "name": "stdout",
     "text": [
      "640.0\n480.0\n30.0\n"
     ]
    }
   ],
   "source": [
    "#調用cv2.VideoCapture()讀取影片\n",
    "cap = cv2.VideoCapture(0) # 0,1....\n",
    "#影片格式支援\n",
    "\n",
    "#cv2.namedWindow('frame',cv2.WINDOW_AUTOSIZE)\n",
    "\n",
    "print(cap.get(cv2.CAP_PROP_FRAME_WIDTH))\n",
    "print(cap.get(cv2.CAP_PROP_FRAME_HEIGHT))\n",
    "print(cap.get(cv2.CAP_PROP_FPS))\n",
    "\n",
    "\n",
    "while cap.isOpened():\n",
    "    \n",
    "    ret, frame = cap.read() # 每次呼叫 cap.read() 就會讀取一張畫面，其第一個傳回值 ret代表成功與否（True 代表成功，False 代表失敗），而第二個傳回值 frame 就是攝影機的單張畫面。\n",
    "    # 正確讀取影像時 ret 回傳 True\n",
    "    frame_count=cap.get(cv2.CAP_PROP_POS_FRAMES)\n",
    "    if not ret:\n",
    "        print(\"讀取失敗，請確認攝影機連接...\")\n",
    "        break\n",
    "    \n",
    "    #轉灰階畫面顯示\n",
    "    gray = cv2.cvtColor(frame, cv2.COLOR_BGR2GRAY)\n",
    "    frame = cv2.cvtColor(frame, cv2.COLOR_BGR2BGR565)\n",
    "\n",
    "    cv2.imshow('webcam capture', gray)\n",
    "\n",
    "    if cv2.waitKey(1) == ord('q'):\n",
    "        break\n",
    "\n",
    "cap.release()\n",
    "cv2.destroyAllWindows()"
   ]
  },
  {
   "cell_type": "code",
   "execution_count": null,
   "metadata": {},
   "outputs": [],
   "source": []
  }
 ]
}