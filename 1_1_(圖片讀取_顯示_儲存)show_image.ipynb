{
 "metadata": {
  "language_info": {
   "codemirror_mode": {
    "name": "ipython",
    "version": 3
   },
   "file_extension": ".py",
   "mimetype": "text/x-python",
   "name": "python",
   "nbconvert_exporter": "python",
   "pygments_lexer": "ipython3",
   "version": "3.7.9"
  },
  "orig_nbformat": 4,
  "kernelspec": {
   "name": "python3",
   "display_name": "Python 3.7.9 64-bit"
  },
  "interpreter": {
   "hash": "2bd04dc09fab68ca3ef149792dfe3505936e6301cdd003bc123cc71dc1164e1a"
  }
 },
 "nbformat": 4,
 "nbformat_minor": 2,
 "cells": [
  {
   "cell_type": "code",
   "execution_count": 1,
   "metadata": {},
   "outputs": [
    {
     "output_type": "stream",
     "name": "stdout",
     "text": [
      "OpenCV 版本: 4.5.2\n"
     ]
    }
   ],
   "source": [
    "import cv2\n",
    "import sys\n",
    "\n",
    "print('OpenCV 版本:',cv2.__version__)\n",
    "\n",
    "#呼叫顯示圖片\n",
    "img_path = \"data/opencv.png\""
   ]
  },
  {
   "cell_type": "code",
   "execution_count": 3,
   "metadata": {},
   "outputs": [
    {
     "output_type": "stream",
     "name": "stdout",
     "text": [
      "成功轉檔與儲存!\n"
     ]
    }
   ],
   "source": [
    "#調用cv2.imread()讀取影像\n",
    "img = cv2.imread(img_path)\n",
    "#讀取支援的格式：bmp,pbm, pgm, ppm,jpeg, jpg,tiff, tif,png....\n",
    "\n",
    "if img is None:\n",
    "    sys.exit(\"無法讀取影像...\")\n",
    "\n",
    "#調用cv2.imshow() 顯示讀取進來的影像\n",
    "cv2.imshow(\"Image Show\", img)\n",
    "\n",
    "\n",
    "#調用cv2.waitKey()來持續顯示畫面，等待鍵盤輸入 \n",
    "#cv2.waitKey() 參數:時間豪秒，0 為永遠\n",
    "k = cv2.waitKey(0)\n",
    "\n",
    "#當按下's'鍵儲存影像並離開\n",
    "if k == ord(\"s\"):\n",
    "\n",
    "    cv2.imwrite(\"first_image.jpg\", img)\n",
    "    print(\"成功轉檔與儲存!\")\n",
    "    cv2.destroyAllWindows() "
   ]
  },
  {
   "cell_type": "code",
   "execution_count": null,
   "metadata": {},
   "outputs": [],
   "source": []
  }
 ]
}