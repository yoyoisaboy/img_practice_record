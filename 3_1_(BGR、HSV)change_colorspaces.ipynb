{
 "metadata": {
  "language_info": {
   "codemirror_mode": {
    "name": "ipython",
    "version": 3
   },
   "file_extension": ".py",
   "mimetype": "text/x-python",
   "name": "python",
   "nbconvert_exporter": "python",
   "pygments_lexer": "ipython3",
   "version": "3.7.9"
  },
  "orig_nbformat": 4,
  "kernelspec": {
   "name": "python3",
   "display_name": "Python 3.7.9 64-bit"
  },
  "interpreter": {
   "hash": "2bd04dc09fab68ca3ef149792dfe3505936e6301cdd003bc123cc71dc1164e1a"
  }
 },
 "nbformat": 4,
 "nbformat_minor": 2,
 "cells": [
  {
   "cell_type": "code",
   "execution_count": 1,
   "metadata": {},
   "outputs": [],
   "source": [
    "import cv2\n",
    "import numpy as np\n",
    "import sys\n",
    "\n",
    "#分割\n",
    "img_path = \"data/tennis.jpg\"\n"
   ]
  },
  {
   "cell_type": "code",
   "execution_count": 2,
   "metadata": {},
   "outputs": [
    {
     "output_type": "stream",
     "name": "stdout",
     "text": [
      "[[[ 30 255 255]]]\n"
     ]
    }
   ],
   "source": [
    "#調用cv2.imread()讀取影像\n",
    "img = cv2.imread(img_path)\n",
    "#讀取支援的格式：bmp,pbm, pgm, ppm,jpeg, jpg,tiff, tif,png....\n",
    "\n",
    "if img is None:\n",
    "    sys.exit(\"無法讀取影像...\")\n",
    "#色彩空間轉換 BGR 轉 HSV\n",
    "#我們要將黃色網球分割出來\n",
    "hsv = cv2.cvtColor(img, cv2.COLOR_BGR2HSV)\n",
    "\n",
    "#來找出正黃色RGB值在HSV的數值\n",
    "yellow = np.uint8([[[0,255,255 ]]]) #BGR \t8 位無符號整數\n",
    "hsv_yellow = cv2.cvtColor(yellow,cv2.COLOR_BGR2HSV)\n",
    "print( hsv_yellow ) #[[[ 30, 255, 255]]] H:色調 S:飽和度 V:亮度,正黃色的位置30 255,255 "
   ]
  },
  {
   "cell_type": "code",
   "execution_count": 13,
   "metadata": {},
   "outputs": [],
   "source": [
    "\n",
    "# 在HSV的色彩空間中定義黃色區間,這樣就可以初步分出網球的位置\n",
    "lower_yellow = np.array([25,100,80])\n",
    "upper_yellow = np.array([40,255,255])\n",
    "\n",
    "# 將圖像中色彩分割黃色區間出來的遮罩\n",
    "mask = cv2.inRange(hsv, lower_yellow, upper_yellow)\n",
    "\n",
    "# 遮罩跟原圖做AND取出分割的影像\n",
    "res = cv2.bitwise_and(img,img, mask= mask)\n",
    "cv2.imshow('frame',img)\n",
    "cv2.imshow('mask',mask)\n",
    "cv2.imshow('res',res)\n",
    "\n",
    "k = cv2.waitKey(0)\n",
    "cv2.destroyAllWindows() "
   ]
  },
  {
   "cell_type": "code",
   "execution_count": null,
   "metadata": {},
   "outputs": [],
   "source": []
  }
 ]
}